{
 "cells": [
  {
   "cell_type": "code",
   "execution_count": 1,
   "id": "1f816f1e",
   "metadata": {
    "_cell_guid": "b1076dfc-b9ad-4769-8c92-a6c4dae69d19",
    "_uuid": "8f2839f25d086af736a60e9eeb907d3b93b6e0e5",
    "execution": {
     "iopub.execute_input": "2022-10-26T07:38:41.606544Z",
     "iopub.status.busy": "2022-10-26T07:38:41.606022Z",
     "iopub.status.idle": "2022-10-26T07:38:42.785195Z",
     "shell.execute_reply": "2022-10-26T07:38:42.784311Z"
    },
    "papermill": {
     "duration": 1.188247,
     "end_time": "2022-10-26T07:38:42.787925",
     "exception": false,
     "start_time": "2022-10-26T07:38:41.599678",
     "status": "completed"
    },
    "tags": []
   },
   "outputs": [],
   "source": [
    "import numpy as np\n",
    "import pandas as pd \n",
    "from sklearn import preprocessing, decomposition, model_selection, metrics, pipeline\n",
    "from sklearn.model_selection import train_test_split\n",
    "from sklearn.naive_bayes import MultinomialNB\n",
    "from sklearn.feature_extraction.text import TfidfVectorizer, CountVectorizer"
   ]
  },
  {
   "cell_type": "code",
   "execution_count": 2,
   "id": "2bb20e4b",
   "metadata": {
    "execution": {
     "iopub.execute_input": "2022-10-26T07:38:42.800362Z",
     "iopub.status.busy": "2022-10-26T07:38:42.799960Z",
     "iopub.status.idle": "2022-10-26T07:38:44.634038Z",
     "shell.execute_reply": "2022-10-26T07:38:44.632783Z"
    },
    "papermill": {
     "duration": 1.842741,
     "end_time": "2022-10-26T07:38:44.637293",
     "exception": false,
     "start_time": "2022-10-26T07:38:42.794552",
     "status": "completed"
    },
    "tags": []
   },
   "outputs": [],
   "source": [
    "train=pd.read_csv('../input/predicting-job-type-category-by-job-description/train.csv')\n",
    "test=pd.read_csv('../input/predicting-job-type-category-by-job-description/test.csv')\n",
    "submission=pd.read_csv('../input/predicting-job-type-category-by-job-description/sample_submission.csv')"
   ]
  },
  {
   "cell_type": "code",
   "execution_count": 3,
   "id": "80326af4",
   "metadata": {
    "execution": {
     "iopub.execute_input": "2022-10-26T07:38:44.646109Z",
     "iopub.status.busy": "2022-10-26T07:38:44.645687Z",
     "iopub.status.idle": "2022-10-26T07:38:44.666373Z",
     "shell.execute_reply": "2022-10-26T07:38:44.665114Z"
    },
    "papermill": {
     "duration": 0.028055,
     "end_time": "2022-10-26T07:38:44.669112",
     "exception": false,
     "start_time": "2022-10-26T07:38:44.641057",
     "status": "completed"
    },
    "tags": []
   },
   "outputs": [
    {
     "data": {
      "text/html": [
       "<div>\n",
       "<style scoped>\n",
       "    .dataframe tbody tr th:only-of-type {\n",
       "        vertical-align: middle;\n",
       "    }\n",
       "\n",
       "    .dataframe tbody tr th {\n",
       "        vertical-align: top;\n",
       "    }\n",
       "\n",
       "    .dataframe thead th {\n",
       "        text-align: right;\n",
       "    }\n",
       "</style>\n",
       "<table border=\"1\" class=\"dataframe\">\n",
       "  <thead>\n",
       "    <tr style=\"text-align: right;\">\n",
       "      <th></th>\n",
       "      <th>job_no</th>\n",
       "      <th>job_description</th>\n",
       "      <th>job_type</th>\n",
       "      <th>category</th>\n",
       "    </tr>\n",
       "  </thead>\n",
       "  <tbody>\n",
       "    <tr>\n",
       "      <th>0</th>\n",
       "      <td>Id-12765</td>\n",
       "      <td>Zest Scientific is searching for an accomplis...</td>\n",
       "      <td>Permanent</td>\n",
       "      <td>Pharmaceutical, Healthcare and Medical Sales</td>\n",
       "    </tr>\n",
       "    <tr>\n",
       "      <th>1</th>\n",
       "      <td>Id-22925</td>\n",
       "      <td>En el mundo de los CRO's típicos, esta compañí...</td>\n",
       "      <td>Permanent</td>\n",
       "      <td>Clinical Research</td>\n",
       "    </tr>\n",
       "    <tr>\n",
       "      <th>2</th>\n",
       "      <td>Id-1321</td>\n",
       "      <td>Asha Mistry of Umbilical Life is recruiting an...</td>\n",
       "      <td>Contract/Interim</td>\n",
       "      <td>Pharmaceutical Marketing</td>\n",
       "    </tr>\n",
       "    <tr>\n",
       "      <th>3</th>\n",
       "      <td>Id-9473</td>\n",
       "      <td>Sales Representative - Laser in der Medizinte...</td>\n",
       "      <td>Permanent</td>\n",
       "      <td>Pharmaceutical, Healthcare and Medical Sales</td>\n",
       "    </tr>\n",
       "    <tr>\n",
       "      <th>4</th>\n",
       "      <td>Id-14952</td>\n",
       "      <td>Field Service Engineer - Life Science\\r\\r\\r\\nC...</td>\n",
       "      <td>Permanent</td>\n",
       "      <td>Manufacturing &amp; Operations</td>\n",
       "    </tr>\n",
       "  </tbody>\n",
       "</table>\n",
       "</div>"
      ],
      "text/plain": [
       "     job_no                                    job_description  \\\n",
       "0  Id-12765   Zest Scientific is searching for an accomplis...   \n",
       "1  Id-22925  En el mundo de los CRO's típicos, esta compañí...   \n",
       "2   Id-1321  Asha Mistry of Umbilical Life is recruiting an...   \n",
       "3   Id-9473   Sales Representative - Laser in der Medizinte...   \n",
       "4  Id-14952  Field Service Engineer - Life Science\\r\\r\\r\\nC...   \n",
       "\n",
       "           job_type                                      category  \n",
       "0         Permanent  Pharmaceutical, Healthcare and Medical Sales  \n",
       "1         Permanent                             Clinical Research  \n",
       "2  Contract/Interim                      Pharmaceutical Marketing  \n",
       "3         Permanent  Pharmaceutical, Healthcare and Medical Sales  \n",
       "4         Permanent                    Manufacturing & Operations  "
      ]
     },
     "execution_count": 3,
     "metadata": {},
     "output_type": "execute_result"
    }
   ],
   "source": [
    "train.head()"
   ]
  },
  {
   "cell_type": "code",
   "execution_count": 4,
   "id": "167867a9",
   "metadata": {
    "execution": {
     "iopub.execute_input": "2022-10-26T07:38:44.678198Z",
     "iopub.status.busy": "2022-10-26T07:38:44.677852Z",
     "iopub.status.idle": "2022-10-26T07:38:44.694686Z",
     "shell.execute_reply": "2022-10-26T07:38:44.693619Z"
    },
    "papermill": {
     "duration": 0.023899,
     "end_time": "2022-10-26T07:38:44.697026",
     "exception": false,
     "start_time": "2022-10-26T07:38:44.673127",
     "status": "completed"
    },
    "tags": []
   },
   "outputs": [
    {
     "data": {
      "text/plain": [
       "Pharmaceutical, Healthcare and Medical Sales    4507\n",
       "Clinical Research                               3172\n",
       "Science                                         2932\n",
       "Manufacturing & Operations                      2235\n",
       "Regulatory Affairs                              1163\n",
       "Pharmaceutical Marketing                        1071\n",
       "Data Management and Statistics                   829\n",
       "Quality-assurance                                703\n",
       "Medical Information and Pharmacovigilance        561\n",
       "Medical Affairs / Pharmaceutical Physician       458\n",
       "Pharmacy                                          26\n",
       "Name: category, dtype: int64"
      ]
     },
     "execution_count": 4,
     "metadata": {},
     "output_type": "execute_result"
    }
   ],
   "source": [
    "train['category'].value_counts()"
   ]
  },
  {
   "cell_type": "code",
   "execution_count": 5,
   "id": "f0f742c2",
   "metadata": {
    "execution": {
     "iopub.execute_input": "2022-10-26T07:38:44.706208Z",
     "iopub.status.busy": "2022-10-26T07:38:44.705859Z",
     "iopub.status.idle": "2022-10-26T07:38:44.715714Z",
     "shell.execute_reply": "2022-10-26T07:38:44.714617Z"
    },
    "papermill": {
     "duration": 0.016898,
     "end_time": "2022-10-26T07:38:44.717838",
     "exception": false,
     "start_time": "2022-10-26T07:38:44.700940",
     "status": "completed"
    },
    "tags": []
   },
   "outputs": [],
   "source": [
    "lbl_enc = preprocessing.LabelEncoder()\n",
    "y = lbl_enc.fit_transform(train.category.values)"
   ]
  },
  {
   "cell_type": "code",
   "execution_count": 6,
   "id": "44283087",
   "metadata": {
    "execution": {
     "iopub.execute_input": "2022-10-26T07:38:44.726911Z",
     "iopub.status.busy": "2022-10-26T07:38:44.726559Z",
     "iopub.status.idle": "2022-10-26T07:38:44.741785Z",
     "shell.execute_reply": "2022-10-26T07:38:44.740770Z"
    },
    "papermill": {
     "duration": 0.022573,
     "end_time": "2022-10-26T07:38:44.744282",
     "exception": false,
     "start_time": "2022-10-26T07:38:44.721709",
     "status": "completed"
    },
    "tags": []
   },
   "outputs": [],
   "source": [
    "xtrain, xvalid, ytrain, yvalid = train_test_split(train.job_description.values, y, \n",
    "                                                  stratify=y, \n",
    "                                                  random_state=42, \n",
    "                                                  test_size=0.1, shuffle=True)"
   ]
  },
  {
   "cell_type": "code",
   "execution_count": 7,
   "id": "fcbd44db",
   "metadata": {
    "execution": {
     "iopub.execute_input": "2022-10-26T07:38:44.753298Z",
     "iopub.status.busy": "2022-10-26T07:38:44.752942Z",
     "iopub.status.idle": "2022-10-26T07:38:44.758850Z",
     "shell.execute_reply": "2022-10-26T07:38:44.757846Z"
    },
    "papermill": {
     "duration": 0.013202,
     "end_time": "2022-10-26T07:38:44.761374",
     "exception": false,
     "start_time": "2022-10-26T07:38:44.748172",
     "status": "completed"
    },
    "tags": []
   },
   "outputs": [
    {
     "name": "stdout",
     "output_type": "stream",
     "text": [
      "(15891,)\n",
      "(1766,)\n"
     ]
    }
   ],
   "source": [
    "print (xtrain.shape)\n",
    "print (xvalid.shape)"
   ]
  },
  {
   "cell_type": "code",
   "execution_count": 8,
   "id": "b9899146",
   "metadata": {
    "execution": {
     "iopub.execute_input": "2022-10-26T07:38:44.770122Z",
     "iopub.status.busy": "2022-10-26T07:38:44.769786Z",
     "iopub.status.idle": "2022-10-26T07:39:34.966175Z",
     "shell.execute_reply": "2022-10-26T07:39:34.965076Z"
    },
    "papermill": {
     "duration": 50.203671,
     "end_time": "2022-10-26T07:39:34.968842",
     "exception": false,
     "start_time": "2022-10-26T07:38:44.765171",
     "status": "completed"
    },
    "tags": []
   },
   "outputs": [],
   "source": [
    "# Always start with these features. They work (almost) everytime!\n",
    "tfv = TfidfVectorizer(min_df=3,  max_features=None, \n",
    "            strip_accents='unicode', analyzer='word',token_pattern=r'\\w{1,}',\n",
    "            ngram_range=(1, 3), use_idf=1,smooth_idf=1,sublinear_tf=1,\n",
    "            stop_words = 'english')\n",
    "\n",
    "# Fitting TF-IDF to both training and test sets (semi-supervised learning)\n",
    "tfv.fit(list(xtrain) + list(xvalid))\n",
    "xtrain_tfv =  tfv.transform(xtrain) \n",
    "xvalid_tfv = tfv.transform(xvalid)"
   ]
  },
  {
   "cell_type": "code",
   "execution_count": 9,
   "id": "25fb67c0",
   "metadata": {
    "execution": {
     "iopub.execute_input": "2022-10-26T07:39:34.978776Z",
     "iopub.status.busy": "2022-10-26T07:39:34.978407Z",
     "iopub.status.idle": "2022-10-26T07:39:34.985828Z",
     "shell.execute_reply": "2022-10-26T07:39:34.984650Z"
    },
    "papermill": {
     "duration": 0.015213,
     "end_time": "2022-10-26T07:39:34.988239",
     "exception": false,
     "start_time": "2022-10-26T07:39:34.973026",
     "status": "completed"
    },
    "tags": []
   },
   "outputs": [],
   "source": [
    "def multiclass_logloss(actual, predicted, eps=1e-15):\n",
    "    \"\"\"Multi class version of Logarithmic Loss metric.\n",
    "    :param actual: Array containing the actual target classes\n",
    "    :param predicted: Matrix with class predictions, one probability per class\n",
    "    \"\"\"\n",
    "    # Convert 'actual' to a binary array if it's not already:\n",
    "    if len(actual.shape) == 1:\n",
    "        actual2 = np.zeros((actual.shape[0], predicted.shape[1]))\n",
    "        for i, val in enumerate(actual):\n",
    "            actual2[i, val] = 1\n",
    "        actual = actual2\n",
    "\n",
    "    clip = np.clip(predicted, eps, 1 - eps)\n",
    "    rows = actual.shape[0]\n",
    "    vsota = np.sum(actual * np.log(clip))\n",
    "    return -1.0 / rows * vsota"
   ]
  },
  {
   "cell_type": "code",
   "execution_count": 10,
   "id": "6de3ff19",
   "metadata": {
    "execution": {
     "iopub.execute_input": "2022-10-26T07:39:34.998012Z",
     "iopub.status.busy": "2022-10-26T07:39:34.997388Z",
     "iopub.status.idle": "2022-10-26T07:39:35.760415Z",
     "shell.execute_reply": "2022-10-26T07:39:35.759311Z"
    },
    "papermill": {
     "duration": 0.770645,
     "end_time": "2022-10-26T07:39:35.762831",
     "exception": false,
     "start_time": "2022-10-26T07:39:34.992186",
     "status": "completed"
    },
    "tags": []
   },
   "outputs": [
    {
     "name": "stdout",
     "output_type": "stream",
     "text": [
      "logloss: 2.108 \n"
     ]
    }
   ],
   "source": [
    "clf = MultinomialNB()\n",
    "clf.fit(xtrain_tfv, ytrain)\n",
    "predictions = clf.predict_proba(xvalid_tfv)\n",
    "\n",
    "print (\"logloss: %0.3f \" % multiclass_logloss(yvalid, predictions))"
   ]
  },
  {
   "cell_type": "code",
   "execution_count": null,
   "id": "7fd0da2d",
   "metadata": {
    "execution": {
     "iopub.execute_input": "2022-10-26T07:02:18.129788Z",
     "iopub.status.busy": "2022-10-26T07:02:18.129382Z",
     "iopub.status.idle": "2022-10-26T07:02:18.137735Z",
     "shell.execute_reply": "2022-10-26T07:02:18.136471Z",
     "shell.execute_reply.started": "2022-10-26T07:02:18.129756Z"
    },
    "papermill": {
     "duration": 0.003655,
     "end_time": "2022-10-26T07:39:35.770421",
     "exception": false,
     "start_time": "2022-10-26T07:39:35.766766",
     "status": "completed"
    },
    "tags": []
   },
   "outputs": [],
   "source": []
  }
 ],
 "metadata": {
  "kernelspec": {
   "display_name": "Python 3",
   "language": "python",
   "name": "python3"
  },
  "language_info": {
   "codemirror_mode": {
    "name": "ipython",
    "version": 3
   },
   "file_extension": ".py",
   "mimetype": "text/x-python",
   "name": "python",
   "nbconvert_exporter": "python",
   "pygments_lexer": "ipython3",
   "version": "3.7.12"
  },
  "papermill": {
   "default_parameters": {},
   "duration": 63.415342,
   "end_time": "2022-10-26T07:39:36.697243",
   "environment_variables": {},
   "exception": null,
   "input_path": "__notebook__.ipynb",
   "output_path": "__notebook__.ipynb",
   "parameters": {},
   "start_time": "2022-10-26T07:38:33.281901",
   "version": "2.3.4"
  }
 },
 "nbformat": 4,
 "nbformat_minor": 5
}
