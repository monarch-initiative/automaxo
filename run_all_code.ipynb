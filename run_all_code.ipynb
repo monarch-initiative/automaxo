{
 "cells": [
  {
   "cell_type": "code",
   "execution_count": null,
   "metadata": {},
   "outputs": [],
   "source": [
    "\"\"\"\n",
    "Order of files:\n",
    "1. meshImporter.py\n",
    "2. pubmed_article_fetcher.py\n",
    "3. article_data_extractor.py\n",
    "4. mesh_to_ontology_replacer.py\n",
    "5. ontogpt_article_processor.py\n",
    "6. triplet_ranking_and_mesh_combiner.py\n",
    "\"\"\""
   ]
  },
  {
   "cell_type": "code",
   "execution_count": 2,
   "metadata": {},
   "outputs": [
    {
     "name": "stderr",
     "output_type": "stream",
     "text": [
      "/Users/niyone/Desktop/maxo/automaxo/venv/lib/python3.9/site-packages/tqdm/auto.py:21: TqdmWarning: IProgress not found. Please update jupyter and ipywidgets. See https://ipywidgets.readthedocs.io/en/stable/user_install.html\n",
      "  from .autonotebook import tqdm as notebook_tqdm\n"
     ]
    }
   ],
   "source": [
    "import src.automaxo as automaxo \n",
    "from automaxo import import_mesh_data\n",
    "from automaxo import pmid_extractor\n",
    "from automaxo import process_article_jsons_to_tsv\n",
    "from automaxo import replace_mesh_with_ontology\n",
    "from automaxo import process_ontogpt_articles\n",
    "from automaxo import process_triplets_and_mesh\n"
   ]
  },
  {
   "cell_type": "code",
   "execution_count": 2,
   "metadata": {},
   "outputs": [],
   "source": [
    "# 1. Get targetted mesh ids. ie children of Therapeutics and Diagnosis\n",
    "# meshImporter.py\n",
    "\n",
    "input_file = \"data/mesh_target_ids.tsv\"\n",
    "output_file = \"data/mesh_sets.tsv\"\n",
    "\n",
    "import_mesh_data(input_file,output_file)\n",
    "\n",
    "# import_mesh_data()\n"
   ]
  },
  {
   "cell_type": "code",
   "execution_count": null,
   "metadata": {},
   "outputs": [],
   "source": [
    "# 2. Retrieve pubmed IDs related to a disease and its treatment and diagonosis from Eutils, and save json files of articles from PubTator3\n",
    "# pubmed_article_fetcher.py\n",
    "\n",
    "disease_name = \"sickle cell\"\n",
    "mesh_list_path = \"data/mesh_sets.tsv\"\n",
    "output_dir = \"data/sickle_cell/pubtator3_json_sickle_cell\"\n",
    "json_file_path = \"data/sickle_cell/selected_pmid_mesh_info_sickle_cell.json\"\n",
    "max_pmid_retrieve = 200\n",
    "max_articles_to_save = 100\n",
    "\n",
    "pmid_extractor(\n",
    "    disease_name=disease_name,\n",
    "    mesh_list_path=mesh_list_path,\n",
    "    output_dir=output_dir,\n",
    "    max_pmid_retrieve=max_pmid_retrieve,\n",
    "    max_articles_to_save=max_articles_to_save,\n",
    "    json_file_path=json_file_path\n",
    ")"
   ]
  },
  {
   "cell_type": "code",
   "execution_count": 2,
   "metadata": {},
   "outputs": [],
   "source": [
    "# 3. Extract data from json files to a one csv file and save two files, first for raw text, and second for PubTator3 NER replacement including Mesh \n",
    "# article_data_extractor.py\n",
    "\n",
    "\n",
    "json_files_path = \"data/sickle_cell/pubtator3_json_sickle_cell\"\n",
    "replaced_tsv_file_path = \"data/sickle_cell/sickle_cell_mesh_replaced.tsv\"\n",
    "no_replaced_tsv_file_path = \"data/sickle_cell/sickle_cell_no_replaced.tsv\"\n",
    "\n",
    "process_article_jsons_to_tsv(json_files_path, replaced_tsv_file_path, no_replaced_tsv_file_path)"
   ]
  },
  {
   "cell_type": "code",
   "execution_count": 2,
   "metadata": {},
   "outputs": [],
   "source": [
    "# 4. Use POET Library to replace PubTator3 NER mesh with MONDO, HP, and MaXO terms \n",
    "# mesh_to_ontology_replacer.py\n",
    "\n",
    "input_tsv_path = \"data/sickle_cell/sickle_cell_mesh_replaced.tsv\"\n",
    "output_tsv_path = \"data/sickle_cell/sickle_cell_poet_replaced.tsv\"\n",
    "\n",
    "replace_mesh_with_ontology(input_tsv_path, output_tsv_path)"
   ]
  },
  {
   "cell_type": "code",
   "execution_count": null,
   "metadata": {},
   "outputs": [],
   "source": [
    "# 5. Integration of OntoGPT article by article \n",
    "# ontogpt_article_processor.py\n",
    "\n",
    "\n",
    "input_file = \"data/sickle_cell/sickle_cell_no_replaced.tsv\"\n",
    "output_dir = \"data/sickle_cell/ontoGPT_yaml_sickle_cell\"\n",
    "template = 'maxo'\n",
    "\n",
    "process_ontogpt_articles(input_file, output_dir, template)"
   ]
  },
  {
   "cell_type": "code",
   "execution_count": 5,
   "metadata": {},
   "outputs": [],
   "source": [
    "# 6. Post Process OntoGPT results \n",
    "# triplet_ranking_and_mesh_combiner.py\n",
    "\n",
    "\n",
    "yaml_directory_path = \"data/sickle_cell/ontoGPT_yaml_sickle_cell\"\n",
    "mesh_info_file_path = \"data/sickle_cell/selected_pmid_mesh_info_sickle_cell.json\"\n",
    "output_path = \"data/sickle_cell/post_ontoGPT_sickle_cell.json\"\n",
    "\n",
    "process_triplets_and_mesh(yaml_directory_path, mesh_info_file_path, output_path)"
   ]
  },
  {
   "cell_type": "code",
   "execution_count": null,
   "metadata": {},
   "outputs": [],
   "source": []
  }
 ],
 "metadata": {
  "kernelspec": {
   "display_name": "venv",
   "language": "python",
   "name": "python3"
  },
  "language_info": {
   "codemirror_mode": {
    "name": "ipython",
    "version": 3
   },
   "file_extension": ".py",
   "mimetype": "text/x-python",
   "name": "python",
   "nbconvert_exporter": "python",
   "pygments_lexer": "ipython3",
   "version": "3.9.6"
  }
 },
 "nbformat": 4,
 "nbformat_minor": 2
}
