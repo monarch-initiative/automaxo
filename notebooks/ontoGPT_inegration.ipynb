{
 "cells": [
  {
   "cell_type": "code",
   "execution_count": null,
   "metadata": {},
   "outputs": [],
   "source": [
    "# !pip install ontogpt"
   ]
  },
  {
   "cell_type": "code",
   "execution_count": null,
   "metadata": {},
   "outputs": [],
   "source": [
    "# !runoak set-apikey -e openai <your openai api key>"
   ]
  },
  {
   "cell_type": "code",
   "execution_count": null,
   "metadata": {},
   "outputs": [],
   "source": [
    "import csv\n",
    "import os\n",
    "from io import BytesIO\n",
    "from ontogpt.engines.spires_engine import SPIRESEngine\n",
    "from ontogpt.io.template_loader import get_template_details\n",
    "from ontogpt.io.yaml_wrapper import dump_minimal_yaml\n",
    "from ontogpt.cli import write_extraction"
   ]
  },
  {
   "cell_type": "markdown",
   "metadata": {},
   "source": [
    "### Read a sample text "
   ]
  },
  {
   "cell_type": "code",
   "execution_count": null,
   "metadata": {},
   "outputs": [],
   "source": [
    "def process_sample_text(text, ke, output_filename):\n",
    "    \"\"\"Process a sample text and save the extracted results to a YAML file.\"\"\"\n",
    "    # Prepare the output stream and format\n",
    "    output = BytesIO()\n",
    "    output_format = \"yaml\"\n",
    "\n",
    "    # Extract results from the sample text\n",
    "    results = ke.extract_from_text(text=text)\n",
    "\n",
    "    # Call the write_extraction function\n",
    "    write_extraction(\n",
    "        results=results,\n",
    "        output=output,\n",
    "        output_format=output_format,\n",
    "        knowledge_engine=ke\n",
    "    )\n",
    "\n",
    "    # Save the output to a YAML file\n",
    "    with open(output_filename, \"wb\") as file:\n",
    "        output.seek(0)\n",
    "        file.write(output.getvalue())\n",
    "\n",
    "# Initialize the SPIRES engine\n",
    "ke = SPIRESEngine(\n",
    "    template_details=get_template_details(template=\"maxo\"),\n",
    "    model=\"gpt-4-0125-preview\",\n",
    "    model_source=\"openai\",\n",
    ")\n"
   ]
  },
  {
   "cell_type": "code",
   "execution_count": null,
   "metadata": {},
   "outputs": [],
   "source": [
    "sample_pubmed_paragraph = \"\"\"\n",
    "ArithmeticErrorRed blood cell mechanical sensitivity improves in patients with sickle cell disease undergoing chronic transfusion after prolonged, \n",
    "subhemolytic shear exposure.BACKGROUND: Sickle cell disease (SCD) is a genetically inherited hemoglobinopathy in which deoxygenated hemoglobin S polymerizes, \n",
    "leading to stiff red blood cells (RBCs) and inefficient microcirculatory blood flow. Transfusion therapy acts as primary and secondary prevention of \n",
    "ischemic stroke in SCD. Whether blood transfusion alters the mechanical sensitivity (MS) of RBCs to prolonged subhemolytic shear stress (shear) is unknown. \n",
    "We hypothesized that individuals with SCD undergoing chronic blood transfusion would have improved sensitivity to shear, compared with patients not \n",
    "undergoing transfusion therapy. STUDY DESIGN AND METHODS: Blood suspensions from individuals with SCD not receiving (n = 15) and receiving (n = 15) \n",
    "chronic simple transfusion were conditioned to shear (1, 4, 16, 32, and 64 Pa) for various durations (1, 4, 16, 32, and 64 sec), and then deformability of\n",
    "RBCs was immediately measured. Healthy young controls (n = 15) were included for reference. A surface mesh was interpolated using the data to determine the\n",
    "effect of blood transfusion on MS of RBCs. RESULTS: There was impaired RBC deformability to prolonged supraphysiologic shear in both SCD groups; however, MS \n",
    "improved in transfused patients when exposed to prolonged physiologic shear. Furthermore, in the transfused patients with SCD, the threshold above which\n",
    "subhemolytic damage occurs was similar to controls. CONCLUSION: We found that chronic transfusion therapy normalizes the MS threshold above which RBC \n",
    "subhemolytic damage occurs after prolonged shear exposure in SCD. An important and novel finding in transfused patients with SCD was the improvement in RBC\n",
    "deformability in response to prolonged shear exposure over the physiologic range.\n",
    "\"\"\""
   ]
  },
  {
   "cell_type": "code",
   "execution_count": null,
   "metadata": {},
   "outputs": [],
   "source": [
    "\n",
    "# Process the sample text and save the output to a file\n",
    "process_sample_text(sample_pubmed_paragraph, ke, \"test_text.yaml\")\n"
   ]
  },
  {
   "cell_type": "markdown",
   "metadata": {},
   "source": [
    "### Reading a TSV file "
   ]
  },
  {
   "cell_type": "code",
   "execution_count": null,
   "metadata": {},
   "outputs": [],
   "source": [
    "def process_article(pubmed_id, text, ke, output_dir):\n",
    "    \"\"\"Process a single article and save the extracted results to a YAML file in the specified output directory.\"\"\"\n",
    "    # Extract results from the text\n",
    "    results = ke.extract_from_text(text=text)\n",
    "\n",
    "    # Prepare the output stream and format\n",
    "    output = BytesIO()\n",
    "    output_format = \"yaml\"\n",
    "\n",
    "    # Call the write_extraction function\n",
    "    write_extraction(\n",
    "        results=results,\n",
    "        output=output,\n",
    "        output_format=output_format,\n",
    "        knowledge_engine=ke\n",
    "    )\n",
    "\n",
    "    # Save the output to a YAML file named after the PubMed ID in the specified output directory\n",
    "    output_filename = os.path.join(output_dir, f\"{pubmed_id}.yaml\")\n",
    "    with open(output_filename, \"wb\") as output_file:\n",
    "        output.seek(0)\n",
    "        output_file.write(output.getvalue())\n",
    "\n",
    "def process_tsv_file(file_path, ke, output_dir):\n",
    "    \"\"\"Read a .tsv file and process each article, saving the outputs in the specified directory.\"\"\"\n",
    "    with open(file_path, \"r\") as file:\n",
    "        reader = csv.reader(file, delimiter=\"\\t\")\n",
    "        for row in reader:\n",
    "            pubmed_id, relationship, text = row\n",
    "            process_article(pubmed_id, text, ke, output_dir)\n",
    "\n",
    "# Initialize the SPIRES engine\n",
    "ke = SPIRESEngine(\n",
    "    template_details=get_template_details(template=\"maxo\"),\n",
    "    model=\"gpt-4-0125-preview\",\n",
    "    model_source=\"openai\",\n",
    ")\n"
   ]
  },
  {
   "cell_type": "code",
   "execution_count": null,
   "metadata": {},
   "outputs": [],
   "source": [
    "\n",
    "# Specify the output directory path\n",
    "# output_dir = \"../data/sickle_cell_ontogpt_result\"\n",
    "output_dir = \"../test_case/test_ontogpt_result_poet_replaced\"\n",
    "\n",
    "\n",
    "\n",
    "# Create the output directory if it does not exist\n",
    "os.makedirs(output_dir, exist_ok=True)\n",
    "\n",
    "# input_dir = \"../data/sickle_cell_no_replaced.tsv\"\n",
    "input_dir = \"../test_case/test_poet_replaced.tsv\"\n",
    "\n",
    "\n",
    "# Process the .tsv file\n",
    "process_tsv_file(input_dir, ke, output_dir)\n",
    "\n"
   ]
  },
  {
   "cell_type": "code",
   "execution_count": null,
   "metadata": {},
   "outputs": [],
   "source": []
  }
 ],
 "metadata": {
  "language_info": {
   "name": "python"
  }
 },
 "nbformat": 4,
 "nbformat_minor": 2
}
