{
 "cells": [
  {
   "cell_type": "markdown",
   "metadata": {},
   "source": [
    "### Part 1: Identify the relevant sections in the text to send to LLM to extract MaXO terms"
   ]
  },
  {
   "cell_type": "code",
   "execution_count": 1,
   "metadata": {},
   "outputs": [],
   "source": [
    "import nltk\n",
    "from nltk.corpus import wordnet as wn\n",
    "from nltk.tokenize import word_tokenize, sent_tokenize"
   ]
  },
  {
   "cell_type": "code",
   "execution_count": 2,
   "metadata": {},
   "outputs": [
    {
     "name": "stderr",
     "output_type": "stream",
     "text": [
      "[nltk_data] Downloading package punkt to /Users/niyone/nltk_data...\n",
      "[nltk_data]   Package punkt is already up-to-date!\n",
      "[nltk_data] Downloading package wordnet to /Users/niyone/nltk_data...\n",
      "[nltk_data]   Package wordnet is already up-to-date!\n",
      "[nltk_data] Downloading package omw-1.4 to /Users/niyone/nltk_data...\n",
      "[nltk_data]   Package omw-1.4 is already up-to-date!\n"
     ]
    },
    {
     "data": {
      "text/plain": [
       "True"
      ]
     },
     "execution_count": 2,
     "metadata": {},
     "output_type": "execute_result"
    }
   ],
   "source": [
    "# Ensure required NLTK downloads are completed\n",
    "nltk.download('punkt')\n",
    "nltk.download('wordnet')\n",
    "nltk.download('omw-1.4')\n"
   ]
  },
  {
   "cell_type": "code",
   "execution_count": 3,
   "metadata": {},
   "outputs": [],
   "source": [
    "# Define a set of seed keywords relevant to MaXO terms\n",
    "seed_keywords = [\"treatment\", \"diagnosis\", \"therapy\", \"surgery\", \"medication\"]"
   ]
  },
  {
   "cell_type": "code",
   "execution_count": 4,
   "metadata": {},
   "outputs": [],
   "source": [
    "# Expand the keyword set using synonyms from WordNet\n",
    "expanded_keywords = set(seed_keywords)\n",
    "for keyword in seed_keywords:\n",
    "    for synset in wn.synsets(keyword, pos=wn.NOUN):\n",
    "        for lemma in synset.lemmas():\n",
    "            expanded_keywords.add(lemma.name().replace('_', ' '))"
   ]
  },
  {
   "cell_type": "code",
   "execution_count": 5,
   "metadata": {},
   "outputs": [
    {
     "data": {
      "text/plain": [
       "{'OR',\n",
       " 'diagnosing',\n",
       " 'diagnosis',\n",
       " 'discourse',\n",
       " 'discussion',\n",
       " 'handling',\n",
       " 'intervention',\n",
       " 'medicament',\n",
       " 'medication',\n",
       " 'medicinal drug',\n",
       " 'medicine',\n",
       " 'operating room',\n",
       " 'operating theater',\n",
       " 'operating theatre',\n",
       " 'operation',\n",
       " 'surgery',\n",
       " 'surgical operation',\n",
       " 'surgical procedure',\n",
       " 'surgical process',\n",
       " 'therapy',\n",
       " 'treatment'}"
      ]
     },
     "execution_count": 5,
     "metadata": {},
     "output_type": "execute_result"
    }
   ],
   "source": [
    "expanded_keywords"
   ]
  },
  {
   "cell_type": "code",
   "execution_count": 6,
   "metadata": {},
   "outputs": [],
   "source": [
    "sample_pubmed_paragraph = \"\"\"\n",
    "ArithmeticErrorRed blood cell mechanical sensitivity improves in patients with sickle cell disease undergoing chronic transfusion after prolonged, \n",
    "subhemolytic shear exposure.BACKGROUND: Sickle cell disease (SCD) is a genetically inherited hemoglobinopathy in which deoxygenated hemoglobin S polymerizes, \n",
    "leading to stiff red blood cells (RBCs) and inefficient microcirculatory blood flow. Transfusion therapy acts as primary and secondary prevention of \n",
    "ischemic stroke in SCD. Whether blood transfusion alters the mechanical sensitivity (MS) of RBCs to prolonged subhemolytic shear stress (shear) is unknown. \n",
    "We hypothesized that individuals with SCD undergoing chronic blood transfusion would have improved sensitivity to shear, compared with patients not \n",
    "undergoing transfusion therapy. STUDY DESIGN AND METHODS: Blood suspensions from individuals with SCD not receiving (n = 15) and receiving (n = 15) \n",
    "chronic simple transfusion were conditioned to shear (1, 4, 16, 32, and 64 Pa) for various durations (1, 4, 16, 32, and 64 sec), and then deformability of\n",
    "RBCs was immediately measured. Healthy young controls (n = 15) were included for reference. A surface mesh was interpolated using the data to determine the\n",
    "effect of blood transfusion on MS of RBCs. RESULTS: There was impaired RBC deformability to prolonged supraphysiologic shear in both SCD groups; however, MS \n",
    "improved in transfused patients when exposed to prolonged physiologic shear. Furthermore, in the transfused patients with SCD, the threshold above which\n",
    "subhemolytic damage occurs was similar to controls. CONCLUSION: We found that chronic transfusion therapy normalizes the MS threshold above which RBC \n",
    "subhemolytic damage occurs after prolonged shear exposure in SCD. An important and novel finding in transfused patients with SCD was the improvement in RBC\n",
    "deformability in response to prolonged shear exposure over the physiologic range.\n",
    "\"\"\""
   ]
  },
  {
   "cell_type": "code",
   "execution_count": 7,
   "metadata": {},
   "outputs": [],
   "source": [
    "# Function to segment the text into sentences\n",
    "def segment_text(text):\n",
    "    return sent_tokenize(text)\n",
    "\n",
    "# Function to check if a sentence contains any of the keywords\n",
    "def contains_keywords(sentence, keywords):\n",
    "    sentence = sentence.lower()\n",
    "    sentence_tokens = word_tokenize(sentence)\n",
    "    return any(keyword.lower() in sentence_tokens for keyword in keywords)\n",
    "\n",
    "# Function to select relevant sentences\n",
    "def select_relevant_sentences(text, keywords):\n",
    "    sentences = segment_text(text)\n",
    "    return [sentence for sentence in sentences if contains_keywords(sentence, keywords)]"
   ]
  },
  {
   "cell_type": "code",
   "execution_count": 9,
   "metadata": {},
   "outputs": [],
   "source": [
    "# Identify relevant sentences\n",
    "relevant_sentences = select_relevant_sentences(sample_pubmed_paragraph, expanded_keywords)"
   ]
  },
  {
   "cell_type": "code",
   "execution_count": 10,
   "metadata": {},
   "outputs": [
    {
     "data": {
      "text/plain": [
       "['Transfusion therapy acts as primary and secondary prevention of \\nischemic stroke in SCD.',\n",
       " 'We hypothesized that individuals with SCD undergoing chronic blood transfusion would have improved sensitivity to shear, compared with patients not \\nundergoing transfusion therapy.',\n",
       " 'CONCLUSION: We found that chronic transfusion therapy normalizes the MS threshold above which RBC \\nsubhemolytic damage occurs after prolonged shear exposure in SCD.']"
      ]
     },
     "execution_count": 10,
     "metadata": {},
     "output_type": "execute_result"
    }
   ],
   "source": [
    "relevant_sentences"
   ]
  },
  {
   "cell_type": "code",
   "execution_count": null,
   "metadata": {},
   "outputs": [],
   "source": []
  }
 ],
 "metadata": {
  "kernelspec": {
   "display_name": "venv",
   "language": "python",
   "name": "python3"
  },
  "language_info": {
   "codemirror_mode": {
    "name": "ipython",
    "version": 3
   },
   "file_extension": ".py",
   "mimetype": "text/x-python",
   "name": "python",
   "nbconvert_exporter": "python",
   "pygments_lexer": "ipython3",
   "version": "3.9.6"
  }
 },
 "nbformat": 4,
 "nbformat_minor": 2
}
