{
 "cells": [
  {
   "cell_type": "markdown",
   "metadata": {},
   "source": [
    "### Part 1: Identify the relevant sections in the text to send to LLM to extract MaXO terms"
   ]
  },
  {
   "cell_type": "code",
   "execution_count": 1,
   "metadata": {},
   "outputs": [],
   "source": [
    "import nltk\n",
    "from nltk.corpus import wordnet as wn\n",
    "from nltk.tokenize import word_tokenize, sent_tokenize"
   ]
  },
  {
   "cell_type": "code",
   "execution_count": 2,
   "metadata": {},
   "outputs": [
    {
     "name": "stderr",
     "output_type": "stream",
     "text": [
      "[nltk_data] Downloading package punkt to /Users/niyone/nltk_data...\n",
      "[nltk_data]   Package punkt is already up-to-date!\n",
      "[nltk_data] Downloading package wordnet to /Users/niyone/nltk_data...\n",
      "[nltk_data]   Package wordnet is already up-to-date!\n",
      "[nltk_data] Downloading package omw-1.4 to /Users/niyone/nltk_data...\n",
      "[nltk_data]   Package omw-1.4 is already up-to-date!\n"
     ]
    },
    {
     "data": {
      "text/plain": [
       "True"
      ]
     },
     "execution_count": 2,
     "metadata": {},
     "output_type": "execute_result"
    }
   ],
   "source": [
    "# Ensure required NLTK downloads are completed\n",
    "nltk.download('punkt')\n",
    "nltk.download('wordnet')\n",
    "nltk.download('omw-1.4')\n"
   ]
  },
  {
   "cell_type": "code",
   "execution_count": 3,
   "metadata": {},
   "outputs": [],
   "source": [
    "# Define a set of seed keywords relevant to MaXO terms\n",
    "seed_keywords = [\"treatment\", \"diagnosis\", \"therapy\", \"surgery\", \"medication\"]"
   ]
  },
  {
   "cell_type": "code",
   "execution_count": 4,
   "metadata": {},
   "outputs": [],
   "source": [
    "# Expand the keyword set using synonyms from WordNet\n",
    "expanded_keywords = set(seed_keywords)\n",
    "for keyword in seed_keywords:\n",
    "    for synset in wn.synsets(keyword, pos=wn.NOUN):\n",
    "        for lemma in synset.lemmas():\n",
    "            expanded_keywords.add(lemma.name().replace('_', ' '))"
   ]
  },
  {
   "cell_type": "code",
   "execution_count": 7,
   "metadata": {},
   "outputs": [
    {
     "data": {
      "text/plain": [
       "{'OR',\n",
       " 'diagnosing',\n",
       " 'diagnosis',\n",
       " 'discourse',\n",
       " 'discussion',\n",
       " 'handling',\n",
       " 'intervention',\n",
       " 'medicament',\n",
       " 'medication',\n",
       " 'medicinal drug',\n",
       " 'medicine',\n",
       " 'operating room',\n",
       " 'operating theater',\n",
       " 'operating theatre',\n",
       " 'operation',\n",
       " 'surgery',\n",
       " 'surgical operation',\n",
       " 'surgical procedure',\n",
       " 'surgical process',\n",
       " 'therapy',\n",
       " 'treatment'}"
      ]
     },
     "execution_count": 7,
     "metadata": {},
     "output_type": "execute_result"
    }
   ],
   "source": [
    "expanded_keywords"
   ]
  },
  {
   "cell_type": "code",
   "execution_count": 11,
   "metadata": {},
   "outputs": [],
   "source": [
    "# Let's say we have a paragraph from a PubMed article\n",
    "pubmed_paragraph = \"\"\"\n",
    "In recent studies, therapy for acute myeloid leukemia (AML) has shown promising results. \n",
    "The diagnosis often involves a combination of blood tests, bone marrow examination, and genetic studies. \n",
    "Current treatment includes chemotherapy, targeted therapy, and stem cell transplantation. \n",
    "Early surgical intervention is not typically indicated; however, supportive medications can be essential.\n",
    "\"\"\""
   ]
  },
  {
   "cell_type": "code",
   "execution_count": 12,
   "metadata": {},
   "outputs": [],
   "source": [
    "# Function to segment the text into sentences\n",
    "def segment_text(text):\n",
    "    return sent_tokenize(text)\n",
    "\n",
    "# Function to check if a sentence contains any of the keywords\n",
    "def contains_keywords(sentence, keywords):\n",
    "    sentence = sentence.lower()\n",
    "    sentence_tokens = word_tokenize(sentence)\n",
    "    return any(keyword.lower() in sentence_tokens for keyword in keywords)\n",
    "\n",
    "# Function to select relevant sentences\n",
    "def select_relevant_sentences(text, keywords):\n",
    "    sentences = segment_text(text)\n",
    "    return [sentence for sentence in sentences if contains_keywords(sentence, keywords)]"
   ]
  },
  {
   "cell_type": "code",
   "execution_count": 13,
   "metadata": {},
   "outputs": [
    {
     "name": "stdout",
     "output_type": "stream",
     "text": [
      "['\\nIn recent studies, therapy for acute myeloid leukemia (AML) has shown promising results.', 'The diagnosis often involves a combination of blood tests, bone marrow examination, and genetic studies.', 'Current treatment includes chemotherapy, targeted therapy, and stem cell transplantation.', 'Early surgical intervention is not typically indicated; however, supportive medications can be essential.']\n"
     ]
    }
   ],
   "source": [
    "# Identify relevant sentences\n",
    "relevant_sentences = select_relevant_sentences(pubmed_paragraph, expanded_keywords)\n",
    "print(relevant_sentences)"
   ]
  }
 ],
 "metadata": {
  "kernelspec": {
   "display_name": "venv",
   "language": "python",
   "name": "python3"
  },
  "language_info": {
   "codemirror_mode": {
    "name": "ipython",
    "version": 3
   },
   "file_extension": ".py",
   "mimetype": "text/x-python",
   "name": "python",
   "nbconvert_exporter": "python",
   "pygments_lexer": "ipython3",
   "version": "3.9.6"
  }
 },
 "nbformat": 4,
 "nbformat_minor": 2
}
