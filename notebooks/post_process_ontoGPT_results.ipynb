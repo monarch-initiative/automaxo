{
 "cells": [
  {
   "cell_type": "markdown",
   "metadata": {},
   "source": [
    "## Post Process OntoGPT Results "
   ]
  },
  {
   "cell_type": "code",
   "execution_count": 1,
   "metadata": {},
   "outputs": [],
   "source": [
    "import os\n",
    "import yaml\n",
    "from collections import defaultdict"
   ]
  },
  {
   "cell_type": "code",
   "execution_count": 5,
   "metadata": {},
   "outputs": [
    {
     "name": "stdout",
     "output_type": "stream",
     "text": [
      "Triplet: ('disease modifying agents', 'TREATS', 'MONDO:0007374', None), Count: 1, PubMed IDs: ['33596221']\n",
      "Triplet: ('nutritional supplements', 'TREATS', 'MONDO:0007374', None), Count: 1, PubMed IDs: ['33596221']\n",
      "Triplet: ('anti-malarials', 'TREATS', 'MONDO:0005136', None), Count: 1, PubMed IDs: ['33596221']\n",
      "Triplet: ('supplementary arginine', 'TREATS', 'MONDO:0007374', None), Count: 1, PubMed IDs: ['33596221']\n",
      "Triplet: ('supplementary citrulline', 'TREATS', 'MONDO:0007374', None), Count: 1, PubMed IDs: ['33596221']\n",
      "Triplet: ('daily chloroquine', 'TREATS', 'MONDO:0007374', None), Count: 1, PubMed IDs: ['33596221']\n",
      "Triplet: ('hydroxyurea', 'TREATS', 'MONDO:0007374', None), Count: 1, PubMed IDs: ['33596221']\n",
      "Triplet: ('disease modifying agents', 'IS USED TO TREAT', 'pain crisis', None), Count: 1, PubMed IDs: ['33596221']\n",
      "Triplet: ('nutritional supplements', 'IS USED TO IMPROVE', \"children's growth\", None), Count: 1, PubMed IDs: ['33596221']\n",
      "Triplet: ('anti-malarials', 'IS USED TO REDUCE', 'severity of malaria', None), Count: 1, PubMed IDs: ['33596221']\n",
      "Triplet: ('anti-malarials', 'IS USED TO REDUCE', 'prevalence of malaria', None), Count: 1, PubMed IDs: ['33596221']\n",
      "Triplet: ('gravity-based nickel mesh filtration technique', 'IS USED TO ESTIMATE', 'rheological abnormalities in human erythrocytes', None), Count: 1, PubMed IDs: ['35283782']\n",
      "Triplet: ('gravity-based nickel mesh filtration technique', 'IS USED TO ESTIMATE', 'MONDO:0005015', None), Count: 1, PubMed IDs: ['35283782']\n",
      "Triplet: ('gravity-based nickel mesh filtration technique', 'IS USED TO DIAGNOSE', 'MONDO:0005044', 'estimate'), Count: 1, PubMed IDs: ['35283782']\n",
      "Triplet: ('gravity-based nickel mesh filtration technique', 'IS USED TO ESTIMATE', 'MONDO:0011382', None), Count: 1, PubMed IDs: ['35283782']\n",
      "Triplet: ('gravity-based nickel mesh filtration technique', 'IS USED TO DIAGNOSE', 'erythrocyte swelling', None), Count: 1, PubMed IDs: ['35283782']\n",
      "Triplet: ('Quantitative evaluation using a 5-microns pore nickel mesh filter', 'STUDIES', 'MONDO:0011382', None), Count: 1, PubMed IDs: ['7771550']\n",
      "Triplet: ('Increasing the proportion of dense cells in populations of normal cells or cells from individuals with sickle syndromes and equilibrating these cells with gas ligands', 'STUDIES', 'MONDO:0011382', None), Count: 1, PubMed IDs: ['7771550']\n",
      "Triplet: ('Quantitative evaluation using a 5-microns pore nickel mesh filter', 'IS USED TO STUDY', 'Impaired filterability', None), Count: 1, PubMed IDs: ['7771550']\n",
      "Triplet: ('MAXO:0009072', 'TREATS', 'Bochdalek Hernia', None), Count: 1, PubMed IDs: ['34966850']\n",
      "Triplet: ('diaphragmatic reconstruction', 'TREATS', 'Partial Diaphragmatic Agenesis', None), Count: 1, PubMed IDs: ['34966850']\n",
      "\n",
      "Named Entities:\n",
      "PubMed ID: 33596221, Entities: [{'id': 'MONDO:0007374', 'label': '<sickle cell disease (SCD)'}, {'id': 'MONDO:0005136', 'label': 'malaria'}]\n",
      "PubMed ID: 35140852, Entities: [{'id': 'MONDO:0007374', 'label': '<sickle cell disease (SCD)'}, {'id': 'MONDO:0005136', 'label': 'malaria'}, {'id': 'MONDO:0012126', 'label': 'Osteonecrosis of Femoral Head'}, {'id': 'MONDO:0011382', 'label': 'Sickle Cell Disease'}]\n",
      "PubMed ID: 35283782, Entities: [{'id': 'MONDO:0007374', 'label': '<sickle cell disease (SCD)'}, {'id': 'MONDO:0005136', 'label': 'malaria'}, {'id': 'MONDO:0012126', 'label': 'Osteonecrosis of Femoral Head'}, {'id': 'MONDO:0011382', 'label': 'Sickle Cell Disease'}, {'id': 'MONDO:0005044', 'label': 'hypertension'}, {'id': 'MONDO:0005015', 'label': 'diabetes mellitus'}]\n",
      "PubMed ID: 7771550, Entities: [{'id': 'MONDO:0007374', 'label': '<sickle cell disease (SCD)'}, {'id': 'MONDO:0005136', 'label': 'malaria'}, {'id': 'MONDO:0012126', 'label': 'Osteonecrosis of Femoral Head'}, {'id': 'MONDO:0011382', 'label': 'Sickle Cell Disease'}, {'id': 'MONDO:0005044', 'label': 'hypertension'}, {'id': 'MONDO:0005015', 'label': 'diabetes mellitus'}]\n",
      "PubMed ID: 34966850, Entities: [{'id': 'MONDO:0007374', 'label': '<sickle cell disease (SCD)'}, {'id': 'MONDO:0005136', 'label': 'malaria'}, {'id': 'MONDO:0012126', 'label': 'Osteonecrosis of Femoral Head'}, {'id': 'MONDO:0011382', 'label': 'Sickle Cell Disease'}, {'id': 'MONDO:0005044', 'label': 'hypertension'}, {'id': 'MONDO:0005015', 'label': 'diabetes mellitus'}, {'id': 'MAXO:0009072', 'label': 'Surgical repair'}]\n"
     ]
    }
   ],
   "source": [
    "def load_yaml_files(directory_path):\n",
    "    data = []\n",
    "    for file_name in os.listdir(directory_path):\n",
    "        if file_name.endswith('.yaml'):\n",
    "            pubmed_id = os.path.splitext(file_name)[0]\n",
    "            file_path = os.path.join(directory_path, file_name)\n",
    "            with open(file_path, 'r') as f:\n",
    "                content = yaml.safe_load(f)\n",
    "                content['pubmed_id'] = pubmed_id  # Add PubMed ID to the article data\n",
    "                data.append(content)\n",
    "    return data\n",
    "\n",
    "def extract_triplets(data):\n",
    "    triplets = []\n",
    "    named_entities = {}\n",
    "\n",
    "    def add_triplets(section, pubmed_id):\n",
    "        for triplet in article.get('extracted_object', {}).get(section, []):\n",
    "            for obj in triplet['object']:\n",
    "                triplets.append((triplet['subject'], triplet['predicate'], obj, triplet.get('object_qualifier'), pubmed_id))\n",
    "\n",
    "    for article in data:\n",
    "        pubmed_id = article['pubmed_id']\n",
    "        add_triplets('action_to_disease', pubmed_id)\n",
    "        add_triplets('action_to_symptom', pubmed_id)\n",
    "        named_entities[pubmed_id] = article['named_entities']\n",
    "\n",
    "    return triplets, named_entities\n",
    "\n",
    "\n",
    "\n",
    "def count_triplets(triplets):\n",
    "    triplet_counts = defaultdict(lambda: {'count': 0, 'pubmed_ids': set()})\n",
    "    for triplet in triplets:\n",
    "        key = triplet[:-1]  # Exclude the PubMed ID from the key\n",
    "        pubmed_id = triplet[-1]\n",
    "        triplet_counts[key]['count'] += 1\n",
    "        triplet_counts[key]['pubmed_ids'].add(pubmed_id)\n",
    "    return triplet_counts\n",
    "\n",
    "def rank_triplets(triplet_counts):\n",
    "    ranked_triplets = sorted(triplet_counts.items(), key=lambda x: x[1]['count'], reverse=True)\n",
    "    return ranked_triplets\n",
    "\n",
    "directory_path = '../test_case/test_ontogpt_result_non_replaced'\n",
    "data = load_yaml_files(directory_path)\n",
    "triplets, named_entities = extract_triplets(data)\n",
    "triplet_counts = count_triplets(triplets)\n",
    "ranked_triplets = rank_triplets(triplet_counts)\n",
    "\n",
    "for triplet, info in ranked_triplets:\n",
    "    print(f'Triplet: {triplet}, Count: {info[\"count\"]}, PubMed IDs: {list(info[\"pubmed_ids\"])}')\n",
    "\n",
    "print(\"\\nNamed Entities:\")\n",
    "for pubmed_id, entities in named_entities.items():\n",
    "    print(f'PubMed ID: {pubmed_id}, Entities: {entities}')"
   ]
  },
  {
   "cell_type": "code",
   "execution_count": null,
   "metadata": {},
   "outputs": [],
   "source": []
  },
  {
   "cell_type": "code",
   "execution_count": null,
   "metadata": {},
   "outputs": [],
   "source": []
  },
  {
   "cell_type": "code",
   "execution_count": null,
   "metadata": {},
   "outputs": [],
   "source": []
  }
 ],
 "metadata": {
  "kernelspec": {
   "display_name": "maxo_venv",
   "language": "python",
   "name": "python3"
  },
  "language_info": {
   "codemirror_mode": {
    "name": "ipython",
    "version": 3
   },
   "file_extension": ".py",
   "mimetype": "text/x-python",
   "name": "python",
   "nbconvert_exporter": "python",
   "pygments_lexer": "ipython3",
   "version": "3.9.6"
  }
 },
 "nbformat": 4,
 "nbformat_minor": 2
}
