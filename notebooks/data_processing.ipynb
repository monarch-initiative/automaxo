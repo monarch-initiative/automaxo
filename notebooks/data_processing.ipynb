{
 "cells": [
  {
   "cell_type": "code",
   "execution_count": 1,
   "metadata": {},
   "outputs": [],
   "source": [
    "import json\n",
    "import os\n",
    "import pandas as pd"
   ]
  },
  {
   "cell_type": "code",
   "execution_count": 2,
   "metadata": {},
   "outputs": [],
   "source": [
    "# Updated function based on the provided structure and logic for building new text with replacements\n",
    "def extract_passages(passages):\n",
    "    biotype_prefix = {\n",
    "        \"gene\": \"ncbi\",\n",
    "        \"disease\": \"disease\",\n",
    "        \"chemical\": \"chemical\",\n",
    "        \"variant\": \"variant\",\n",
    "        \"specie\": \"specie\",\n",
    "        \"cell line\": \"cellosaurus\"\n",
    "    }\n",
    "    \n",
    "    for passage in passages:\n",
    "        new_text = \"\"\n",
    "        last_offset = 0\n",
    "        text_offset = passage[\"offset\"] # Initialize last_offset to the start of the passage text        \n",
    "        for annotation in sorted(passage[\"annotations\"], key=lambda x: x[\"locations\"][0][\"offset\"]):\n",
    "            biotype = annotation[\"infons\"][\"biotype\"]\n",
    "            normalized_id = annotation[\"infons\"][\"normalized_id\"]\n",
    "            if normalized_id:\n",
    "                prefix = biotype_prefix.get(biotype, \"\")\n",
    "                replacement_text = f\"{prefix}{normalized_id}\"\n",
    "                for location in annotation[\"locations\"]:\n",
    "                    start = location[\"offset\"] - text_offset\n",
    "                    end = start + location[\"length\"]\n",
    "                    # Append text from last_offset to the start of the current annotation\n",
    "                    new_text += passage[\"text\"][last_offset:start]\n",
    "                    # Append the replacement text\n",
    "                    new_text += replacement_text\n",
    "                    # Update last_offset to after the current annotation\n",
    "                    last_offset = end\n",
    "\n",
    "        # Append any remaining text after the last annotation\n",
    "        new_text += passage[\"text\"][last_offset:]\n",
    "        # Update the passage text with the new constructed text\n",
    "        passage[\"text\"] = new_text\n",
    "    \n",
    "    return passages\n"
   ]
  },
  {
   "cell_type": "code",
   "execution_count": 3,
   "metadata": {},
   "outputs": [],
   "source": [
    "def extract_relationships(relations):\n",
    "    biotype_prefix = {\n",
    "        \"gene\": \"ncbi\",\n",
    "        \"disease\": \"disease\",\n",
    "        \"chemical\": \"chemical\",\n",
    "        \"variant\": \"variant\",\n",
    "        \"specie\": \"specie\",\n",
    "        \"cell line\": \"cellosaurus\"\n",
    "    }\n",
    "\n",
    "    relationships = []\n",
    "    for relation in relations:\n",
    "        infons = relation['infons']\n",
    "        role1_biotype = infons['role1']['biotype']\n",
    "        role1_normalized_id = infons['role1']['normalized_id']\n",
    "        role2_biotype = infons['role2']['biotype']\n",
    "        role2_normalized_id = infons['role2']['normalized_id']\n",
    "        relationship_type = infons['type']\n",
    "\n",
    "        # Apply prefixes based on biotype\n",
    "        role1_prefix = biotype_prefix.get(role1_biotype, \"\")\n",
    "        role2_prefix = biotype_prefix.get(role2_biotype, \"\")\n",
    "\n",
    "        relationships.append(f\"{relationship_type}|{role1_prefix}{role1_normalized_id}|{role2_prefix}{role2_normalized_id}\")\n",
    "\n",
    "    return relationships\n",
    "\n"
   ]
  },
  {
   "cell_type": "code",
   "execution_count": 4,
   "metadata": {},
   "outputs": [],
   "source": [
    "def process_jsons_to_tsv(json_files_path, replaced_tsv_file_path, no_replaced_tsv_file_path):\n",
    "    \"\"\"\n",
    "    Processes JSON files in the given directory, extracting PMC ID, text content, and relationship,\n",
    "    and saves them into a single TSV file with three columns: PMC ID, text, and relationship.\n",
    "\n",
    "    Parameters:\n",
    "    - json_files_path (str): The path to the directory containing JSON files.\n",
    "    - replaced_tsv_file_path (str): The path to the output TSV file where replacement occurred.\n",
    "    - no_replaced_tsv_file_path (str): The path to the output TSV file where no replacement occurred.\n",
    "    \"\"\"\n",
    "    # Ensure the output directory exists\n",
    "    output_directory = os.path.dirname(replaced_tsv_file_path)\n",
    "    if output_directory:\n",
    "        os.makedirs(output_directory, exist_ok=True)\n",
    "\n",
    "    # Open the TSV files for writing\n",
    "    with open(replaced_tsv_file_path, 'w', encoding='utf-8') as replaced_tsv_file, \\\n",
    "         open(no_replaced_tsv_file_path, 'w', encoding='utf-8') as no_replaced_tsv_file:\n",
    "\n",
    "        # Iterate over all files in the given directory\n",
    "        for filename in os.listdir(json_files_path):\n",
    "            if filename.endswith(\".json\"):\n",
    "                json_file_path = os.path.join(json_files_path, filename)\n",
    "\n",
    "                # Read the JSON file\n",
    "                with open(json_file_path, 'r', encoding='utf-8') as file:\n",
    "                    data = json.load(file)\n",
    "\n",
    "                # Concatenate all passage no replacement texts into one string\n",
    "                text_content_no_replaced = \"\".join([passage[\"text\"] for passage in data[\"passages\"]])\n",
    "\n",
    "                # Apply Replacement\n",
    "                corrected_passages = extract_passages(data[\"passages\"])\n",
    "\n",
    "                # Concatenate all passage replaced texts into one string\n",
    "                text_content_replaced = \"\".join([passage[\"text\"] for passage in corrected_passages])\n",
    "\n",
    "                # Extract relationships\n",
    "                relationship_no_replaced = [relation['name'] for relation in data['relations_display']]\n",
    "                relationship_no_replaced = ' ;'.join(relationship_no_replaced)\n",
    "\n",
    "                relationship_replaced = extract_relationships(data.get('relations', []))\n",
    "                relationships_replaced = \"; \".join(relationship_replaced)\n",
    "\n",
    "\n",
    "                # Extract PMC ID from the filename (assuming PMC ID is the filename without extension)\n",
    "                pmc_id = os.path.splitext(filename)[0]\n",
    "\n",
    "                # Write the PMC ID, text content, and relationships to the TSV file\n",
    "                replaced_tsv_file.write(f\"{pmc_id}\\t{relationships_replaced}\\t{text_content_replaced}\\n\")\n",
    "\n",
    "                # Write the PMC ID, text content, and relationships to the TSV file\n",
    "                no_replaced_tsv_file.write(f\"{pmc_id}\\t{relationship_no_replaced}\\t{text_content_no_replaced}\\n\")\n",
    "\n",
    "        print(f\"Processed and saved all entries to: {replaced_tsv_file_path}\")\n",
    "        print(f\"Unprocessed and saved all entries to: {no_replaced_tsv_file_path}\")\n"
   ]
  },
  {
   "cell_type": "code",
   "execution_count": 5,
   "metadata": {},
   "outputs": [
    {
     "name": "stdout",
     "output_type": "stream",
     "text": [
      "Processed and saved all entries to: test_mesh_replaced.tsv\n",
      "Unprocessed and saved all entries to: test_no_replaced.tsv\n"
     ]
    }
   ],
   "source": [
    "json_files_path = '/Users/niyone/Desktop/maxo/new_approach/automaxo/notebooks'\n",
    "replaced_tsv_file_path = 'test_mesh_replaced.tsv'\n",
    "no_replaced_tsv_file_path = 'test_no_replaced.tsv'\n",
    "process_jsons_to_tsv(json_files_path, replaced_tsv_file_path, no_replaced_tsv_file_path)\n"
   ]
  },
  {
   "cell_type": "code",
   "execution_count": null,
   "metadata": {},
   "outputs": [],
   "source": []
  }
 ],
 "metadata": {
  "kernelspec": {
   "display_name": "venv",
   "language": "python",
   "name": "python3"
  },
  "language_info": {
   "codemirror_mode": {
    "name": "ipython",
    "version": 3
   },
   "file_extension": ".py",
   "mimetype": "text/x-python",
   "name": "python",
   "nbconvert_exporter": "python",
   "pygments_lexer": "ipython3",
   "version": "3.9.6"
  }
 },
 "nbformat": 4,
 "nbformat_minor": 2
}
